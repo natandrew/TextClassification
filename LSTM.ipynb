{
 "cells": [
  {
   "cell_type": "code",
   "execution_count": 1,
   "id": "6aa54283-dbb8-4ece-aabe-e785c641091a",
   "metadata": {},
   "outputs": [],
   "source": [
    "# %%\n",
    "# Imports & settings\n",
    "import os\n",
    "import re\n",
    "import random\n",
    "from collections import Counter\n",
    "\n",
    "import torch\n",
    "import torch.nn as nn\n",
    "from torch.utils.data import DataLoader, Dataset\n",
    "from torch.nn.utils.rnn import pad_sequence\n",
    "from torch.nn.functional import pad as torch_pad\n",
    "\n",
    "from datasets import load_dataset\n",
    "\n",
    "import numpy as np\n",
    "import matplotlib.pyplot as plt\n",
    "\n",
    "from tqdm.auto import tqdm"
   ]
  },
  {
   "cell_type": "code",
   "execution_count": 2,
   "id": "891c9cf6-74f0-48c6-a21d-f4f0b9333173",
   "metadata": {},
   "outputs": [
    {
     "name": "stdout",
     "output_type": "stream",
     "text": [
      "Device in use: cuda\n"
     ]
    }
   ],
   "source": [
    "# %%\n",
    "# Reproducibility & device\n",
    "SEED = 42\n",
    "\n",
    "random.seed(SEED)\n",
    "np.random.seed(SEED)\n",
    "torch.manual_seed(SEED)\n",
    "\n",
    "if torch.cuda.is_available():\n",
    "    torch.cuda.manual_seed_all(SEED)\n",
    "\n",
    "DEVICE = torch.device('cuda' if torch.cuda.is_available() else 'cpu')\n",
    "\n",
    "print('Device in use:', DEVICE)"
   ]
  },
  {
   "cell_type": "code",
   "execution_count": 3,
   "id": "9ad766bf-1734-4f6d-89c3-16972952ff1f",
   "metadata": {},
   "outputs": [],
   "source": [
    "# %%\n",
    "# Hyperparameters\n",
    "VOCAB_SIZE = 20000   # top words to keep(including special tokens)\n",
    "MAX_LEN = 300        # max tokens per review (pad or truncate)\n",
    "EMBED_DIM = 128\n",
    "HIDDEN_SIZE = 128\n",
    "NUM_LAYERS = 1\n",
    "BIDIRECTIONAL = True\n",
    "DROPOUT = 0.5\n",
    "BATCH_SIZE = 64\n",
    "NUM_EPOCHS = 6\n",
    "LR = 1e-3\n",
    "\n",
    "# Special token indices\n",
    "PAD_IDX = 0\n",
    "UNK_IDX = 1"
   ]
  },
  {
   "cell_type": "code",
   "execution_count": 4,
   "id": "55954d3e-9337-4bb1-b413-d8f3eba45ebc",
   "metadata": {},
   "outputs": [],
   "source": [
    "# %%\n",
    "# Tokenizer & helper functions\n",
    "_token_pattern = re.compile(r\"\\b\\w+\\b\")\n",
    "\n",
    "def simple_tokenize(text):\n",
    "    # lowercase and extract word tokens (alphanumeric + underscore)\n",
    "    return _token_pattern.findall(text.lower())\n",
    "\n",
    "# quick function to build vocab from token iterator\n",
    "def build_vocab_from_iterator(iterator, max_tokens=VOCAB_SIZE, specials=(\"<pad>\", \"<unk>\")):\n",
    "    counter = Counter()\n",
    "    for tokens in iterator:\n",
    "        counter.update(tokens)\n",
    "    most_common = counter.most_common(max_tokens - len(specials))\n",
    "    itos = list(specials) + [w for w, _ in most_common]\n",
    "    stoi = {token: idx for idx, token in enumerate(itos)}\n",
    "    return stoi, itos\n",
    "\n",
    "# numericize tokens with stoi\n",
    "def tokens_to_indices(tokens, stoi, unk_idx=UNK_IDX):\n",
    "    return [stoi.get(t, unk_idx) for t in tokens]"
   ]
  },
  {
   "cell_type": "code",
   "execution_count": 5,
   "id": "aa8a1fd9-0ba5-45fa-9638-bdde76a542d6",
   "metadata": {},
   "outputs": [
    {
     "name": "stdout",
     "output_type": "stream",
     "text": [
      "Downloading IMDB dataset (this may take a moment)...\n",
      "Vocab size (final): 20000\n"
     ]
    }
   ],
   "source": [
    "# %%\n",
    "# Load IMDB with Hugging Face datasets and prepare tokenized texts\n",
    "print('Downloading IMDB dataset (this may take a moment)...')\n",
    "dset = load_dataset('imdb')  # train/test splits\n",
    "\n",
    "# build token iterator from training split\n",
    "train_texts = dset['train']['text']\n",
    "train_tokens_iter = (simple_tokenize(t) for t in train_texts)\n",
    "\n",
    "stoi, itos = build_vocab_from_iterator(train_tokens_iter)\n",
    "print(f\"Vocab size (final): {len(itos)}\")"
   ]
  },
  {
   "cell_type": "code",
   "execution_count": 6,
   "id": "75a9cac2-571f-4f04-b031-6e1d5b0a81ac",
   "metadata": {},
   "outputs": [
    {
     "name": "stdout",
     "output_type": "stream",
     "text": [
      "Train size: 25000, Test size: 25000\n"
     ]
    }
   ],
   "source": [
    "# %%\n",
    "# Dataset wrapper (numericalize on the fly or precompute)\n",
    "class IMDBHF(Dataset):\n",
    "    def __init__(self, split_dataset, stoi, tokenizer=simple_tokenize, max_len=MAX_LEN):\n",
    "        self.texts = split_dataset['text']\n",
    "        self.labels = split_dataset['label']  # 0/1\n",
    "        self.stoi = stoi\n",
    "        self.tokenizer = tokenizer\n",
    "        self.max_len = max_len\n",
    "\n",
    "    def __len__(self):\n",
    "        return len(self.texts)\n",
    "\n",
    "    def __getitem__(self, idx):\n",
    "        text = self.texts[idx]\n",
    "        tokens = self.tokenizer(text)\n",
    "        if len(tokens) > self.max_len:\n",
    "            tokens = tokens[:self.max_len]\n",
    "        ids = tokens_to_indices(tokens, self.stoi)\n",
    "        return torch.tensor(ids, dtype=torch.long), torch.tensor(self.labels[idx], dtype=torch.float)\n",
    "\n",
    "# create datasets\n",
    "train_ds = IMDBHF(dset['train'], stoi)\n",
    "test_ds = IMDBHF(dset['test'], stoi)\n",
    "print(f\"Train size: {len(train_ds)}, Test size: {len(test_ds)}\")"
   ]
  },
  {
   "cell_type": "code",
   "execution_count": 7,
   "id": "7163f897-3629-4edb-9f8b-a2f65b462211",
   "metadata": {},
   "outputs": [],
   "source": [
    "# %%\n",
    "# Collate fn and DataLoaders\n",
    "def collate_batch(batch):\n",
    "    token_seqs, labels = zip(*batch)\n",
    "    lengths = torch.tensor([t.size(0) for t in token_seqs], dtype=torch.long)\n",
    "    padded = pad_sequence(token_seqs, batch_first=True, padding_value=PAD_IDX)\n",
    "    # ensure width is MAX_LEN\n",
    "    if padded.size(1) < MAX_LEN:\n",
    "        pad_w = MAX_LEN - padded.size(1)\n",
    "        padded = torch.nn.functional.pad(padded, (0, pad_w), value=PAD_IDX)\n",
    "    labels = torch.tensor(labels, dtype=torch.float)\n",
    "    return padded.to(DEVICE), lengths.to(DEVICE), labels.to(DEVICE)\n",
    "\n",
    "train_loader = DataLoader(train_ds, batch_size=BATCH_SIZE, shuffle=True, collate_fn=collate_batch)\n",
    "test_loader  = DataLoader(test_ds,  batch_size=BATCH_SIZE, shuffle=False, collate_fn=collate_batch)"
   ]
  },
  {
   "cell_type": "code",
   "execution_count": 23,
   "id": "8a06dbbb-65e2-4c5b-96cf-9e3336650474",
   "metadata": {},
   "outputs": [
    {
     "name": "stdout",
     "output_type": "stream",
     "text": [
      "LSTMSentiment(\n",
      "  (embedding): Embedding(20000, 128, padding_idx=0)\n",
      "  (embedding_dropout): Dropout1d(p=0.2, inplace=False)\n",
      "  (lstm): LSTM(128, 128, batch_first=True, bidirectional=True)\n",
      "  (dropout): Dropout(p=0.5, inplace=False)\n",
      "  (fc): Linear(in_features=256, out_features=1, bias=True)\n",
      ")\n"
     ]
    }
   ],
   "source": [
    "# %%\n",
    "# Model definition\n",
    "class LSTMSentiment(nn.Module):\n",
    "    def __init__(self, vocab_size, embed_dim=128, hidden_size=128, num_layers=1, bidirectional=True, dropout=0.5, padding_idx=PAD_IDX):\n",
    "        super().__init__()\n",
    "        self.embedding = nn.Embedding(vocab_size, embed_dim, padding_idx=padding_idx)\n",
    "        self.embedding_dropout = nn.Dropout1d(0.2)\n",
    "        self.lstm = nn.LSTM(embed_dim, hidden_size, num_layers=num_layers, batch_first=True, bidirectional=bidirectional)\n",
    "        self.dropout = nn.Dropout(dropout)\n",
    "        self.fc = nn.Linear(hidden_size * (2 if bidirectional else 1), 1)\n",
    "\n",
    "    def forward(self, x, lengths=None):\n",
    "        emb = self.embedding(x)  # (batch, seq_len, embed_dim)\n",
    "        emb = emb.permute(0,2,1)  # (batch, embed_dim, seq_len)\n",
    "        emb = self.embedding_dropout(emb)\n",
    "        emb = emb.permute(0,2,1)\n",
    "\n",
    "        out, (h_n, c_n) = self.lstm(emb)\n",
    "        if self.lstm.bidirectional:\n",
    "            h_final = torch.cat((h_n[-2], h_n[-1]), dim=1)\n",
    "        else:\n",
    "            h_final = h_n[-1]\n",
    "        h_final = self.dropout(h_final)\n",
    "        return torch.sigmoid(self.fc(h_final)).squeeze(1)\n",
    "\n",
    "model = LSTMSentiment(len(itos), EMBED_DIM, HIDDEN_SIZE, NUM_LAYERS, BIDIRECTIONAL, DROPOUT, padding_idx=PAD_IDX).to(DEVICE)\n",
    "print(model)"
   ]
  },
  {
   "cell_type": "code",
   "execution_count": 15,
   "id": "b0bebe0a-c7a4-466e-b47d-bb54d2e1892a",
   "metadata": {},
   "outputs": [],
   "source": [
    "# %%\n",
    "# Loss, optimizer, metric\n",
    "criterion = nn.BCELoss()\n",
    "optimizer = torch.optim.Adam(model.parameters(), lr=LR)\n",
    "\n",
    "def binary_accuracy(preds, y):\n",
    "    rounded = (preds >= 0.5).float()\n",
    "    return (rounded == y).float().mean()"
   ]
  },
  {
   "cell_type": "code",
   "execution_count": 16,
   "id": "0b8398d5-4be6-4554-8c78-05d6f96b4ea9",
   "metadata": {},
   "outputs": [
    {
     "data": {
      "application/vnd.jupyter.widget-view+json": {
       "model_id": "160bc4d7b2904ade9a1cbccc289e0887",
       "version_major": 2,
       "version_minor": 0
      },
      "text/plain": [
       "  0%|          | 0/391 [00:00<?, ?it/s]"
      ]
     },
     "metadata": {},
     "output_type": "display_data"
    },
    {
     "name": "stdout",
     "output_type": "stream",
     "text": [
      "Epoch 1/6 — train_loss: 0.6722, train_acc: 0.5825 — val_loss: 0.6403, val_acc: 0.6508\n"
     ]
    },
    {
     "data": {
      "application/vnd.jupyter.widget-view+json": {
       "model_id": "8a41cfa033e9471d88a62bcf344905e2",
       "version_major": 2,
       "version_minor": 0
      },
      "text/plain": [
       "  0%|          | 0/391 [00:00<?, ?it/s]"
      ]
     },
     "metadata": {},
     "output_type": "display_data"
    },
    {
     "name": "stdout",
     "output_type": "stream",
     "text": [
      "Epoch 2/6 — train_loss: 0.6312, train_acc: 0.6488 — val_loss: 0.6447, val_acc: 0.6201\n"
     ]
    },
    {
     "data": {
      "application/vnd.jupyter.widget-view+json": {
       "model_id": "fb66ff7476034e72b3b3709ffc88f2a5",
       "version_major": 2,
       "version_minor": 0
      },
      "text/plain": [
       "  0%|          | 0/391 [00:00<?, ?it/s]"
      ]
     },
     "metadata": {},
     "output_type": "display_data"
    },
    {
     "name": "stdout",
     "output_type": "stream",
     "text": [
      "Epoch 3/6 — train_loss: 0.5880, train_acc: 0.6934 — val_loss: 0.5634, val_acc: 0.7227\n"
     ]
    },
    {
     "data": {
      "application/vnd.jupyter.widget-view+json": {
       "model_id": "648b004e97ef4e338c914daa643db8c0",
       "version_major": 2,
       "version_minor": 0
      },
      "text/plain": [
       "  0%|          | 0/391 [00:00<?, ?it/s]"
      ]
     },
     "metadata": {},
     "output_type": "display_data"
    },
    {
     "name": "stdout",
     "output_type": "stream",
     "text": [
      "Epoch 4/6 — train_loss: 0.5475, train_acc: 0.7236 — val_loss: 0.6102, val_acc: 0.6641\n"
     ]
    },
    {
     "data": {
      "application/vnd.jupyter.widget-view+json": {
       "model_id": "a96d12ac33ca4595b90ac4bd34820220",
       "version_major": 2,
       "version_minor": 0
      },
      "text/plain": [
       "  0%|          | 0/391 [00:00<?, ?it/s]"
      ]
     },
     "metadata": {},
     "output_type": "display_data"
    },
    {
     "name": "stdout",
     "output_type": "stream",
     "text": [
      "Epoch 5/6 — train_loss: 0.4706, train_acc: 0.7879 — val_loss: 0.8632, val_acc: 0.5824\n"
     ]
    },
    {
     "data": {
      "application/vnd.jupyter.widget-view+json": {
       "model_id": "25ed813affdb4ab78b81b3efbdbbe177",
       "version_major": 2,
       "version_minor": 0
      },
      "text/plain": [
       "  0%|          | 0/391 [00:00<?, ?it/s]"
      ]
     },
     "metadata": {},
     "output_type": "display_data"
    },
    {
     "name": "stdout",
     "output_type": "stream",
     "text": [
      "Epoch 6/6 — train_loss: 0.4109, train_acc: 0.8237 — val_loss: 0.4669, val_acc: 0.8102\n"
     ]
    }
   ],
   "source": [
    "# %%\n",
    "# Training loop\n",
    "train_losses, val_losses = [], []\n",
    "train_accs, val_accs = [], []\n",
    "\n",
    "for epoch in range(1, NUM_EPOCHS + 1):\n",
    "    model.train()\n",
    "    epoch_loss = 0.0\n",
    "    epoch_acc = 0.0\n",
    "    steps = 0\n",
    "    for inputs, lengths, labels in tqdm(train_loader):\n",
    "        optimizer.zero_grad()\n",
    "        preds = model(inputs, lengths)\n",
    "        loss = criterion(preds, labels)\n",
    "        acc = binary_accuracy(preds, labels)\n",
    "        loss.backward()\n",
    "        optimizer.step()\n",
    "\n",
    "        epoch_loss += loss.item()\n",
    "        epoch_acc += acc.item()\n",
    "        steps += 1\n",
    "    train_losses.append(epoch_loss / steps)\n",
    "    train_accs.append(epoch_acc / steps)\n",
    "\n",
    "    # validation\n",
    "    model.eval()\n",
    "    v_loss = 0.0\n",
    "    v_acc = 0.0\n",
    "    v_steps = 0\n",
    "    with torch.no_grad():\n",
    "        for inputs, lengths, labels in test_loader:\n",
    "            preds = model(inputs, lengths)\n",
    "            loss = criterion(preds, labels)\n",
    "            acc = binary_accuracy(preds, labels)\n",
    "            v_loss += loss.item()\n",
    "            v_acc += acc.item()\n",
    "            v_steps += 1\n",
    "    val_losses.append(v_loss / v_steps)\n",
    "    val_accs.append(v_acc / v_steps)\n",
    "\n",
    "    print(f\"Epoch {epoch}/{NUM_EPOCHS} — train_loss: {train_losses[-1]:.4f}, train_acc: {train_accs[-1]:.4f} — val_loss: {val_losses[-1]:.4f}, val_acc: {val_accs[-1]:.4f}\")"
   ]
  },
  {
   "cell_type": "code",
   "execution_count": 17,
   "id": "9abb376c-ac57-47b8-9819-65dfa75a6aa9",
   "metadata": {},
   "outputs": [
    {
     "data": {
      "image/png": "[encoded data removed]",
      "text/plain": [
       "<Figure size 1000x400 with 2 Axes>"
      ]
     },
     "metadata": {},
     "output_type": "display_data"
    }
   ],
   "source": [
    "# %%\n",
    "# Plot curves\n",
    "plt.figure(figsize=(10,4))\n",
    "plt.subplot(1,2,1)\n",
    "plt.plot(train_losses, label='train_loss')\n",
    "plt.plot(val_losses, label='val_loss')\n",
    "plt.legend()\n",
    "plt.title('Loss')\n",
    "\n",
    "plt.subplot(1,2,2)\n",
    "plt.plot(train_accs, label='train_acc')\n",
    "plt.plot(val_accs, label='val_acc')\n",
    "plt.legend()\n",
    "plt.title('Accuracy')\n",
    "plt.tight_layout()\n",
    "plt.show()"
   ]
  },
  {
   "cell_type": "code",
   "execution_count": 18,
   "id": "c8362981-9f42-45dc-91e7-0f939ecd9444",
   "metadata": {},
   "outputs": [
    {
     "name": "stdout",
     "output_type": "stream",
     "text": [
      "Saved model to models/imdb_lstm_hf.pt\n"
     ]
    }
   ],
   "source": [
    "# %%\n",
    "# Save model + vocab\n",
    "os.makedirs('models', exist_ok=True)\n",
    "model_path = 'models/imdb_lstm_hf.pt'\n",
    "torch.save({'model_state_dict': model.state_dict(), 'itos': itos}, model_path)\n",
    "print('Saved model to', model_path)"
   ]
  },
  {
   "cell_type": "code",
   "execution_count": 22,
   "id": "114b58de-ae16-407c-88f0-f72b72b10be4",
   "metadata": {},
   "outputs": [
    {
     "name": "stdout",
     "output_type": "stream",
     "text": [
      "0.985\tPOS\tThis movie was a masterpiece: direction, actors and soundtrack all excellent.\n",
      "0.022\tNEG\tAwful film. I fell asleep and the plot made no sense.\n"
     ]
    }
   ],
   "source": [
    "# %%\n",
    "# Inference helper\n",
    "\n",
    "def predict_text(text, model, stoi, tokenizer=simple_tokenize, max_len=MAX_LEN):\n",
    "    model.eval()\n",
    "    tokens = tokenizer(text)\n",
    "    if len(tokens) > max_len:\n",
    "        tokens = tokens[:max_len]\n",
    "    ids = tokens_to_indices(tokens, stoi)\n",
    "    tensor = torch.tensor(ids, dtype=torch.long).unsqueeze(0).to(DEVICE)\n",
    "    lengths = torch.tensor([len(ids)], dtype=torch.long).to(DEVICE)\n",
    "    with torch.no_grad():\n",
    "        prob = model(tensor, lengths).item()\n",
    "    return prob\n",
    "\n",
    "# quick demo\n",
    "examples = [\n",
    "    \"This movie was a masterpiece: direction, actors and soundtrack all excellent.\",\n",
    "    \"Awful film. I fell asleep and the plot made no sense.\"\n",
    "]\n",
    "for ex in examples:\n",
    "    p = predict_text(ex, model, stoi)\n",
    "    print(f\"{p:.3f}\t{ 'POS' if p>=0.5 else 'NEG' }\t{ex}\")"
   ]
  }
 ],
 "metadata": {
  "kernelspec": {
   "display_name": "Python (myenv)",
   "language": "python",
   "name": "myenv"
  },
  "language_info": {
   "codemirror_mode": {
    "name": "ipython",
    "version": 3
   },
   "file_extension": ".py",
   "mimetype": "text/x-python",
   "name": "python",
   "nbconvert_exporter": "python",
   "pygments_lexer": "ipython3",
   "version": "3.11.10"
  }
 },
 "nbformat": 4,
 "nbformat_minor": 5
}
